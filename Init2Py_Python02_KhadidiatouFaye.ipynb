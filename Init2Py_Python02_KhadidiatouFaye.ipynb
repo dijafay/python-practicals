{
 "cells": [
  {
   "cell_type": "markdown",
   "metadata": {},
   "source": [
    "# Init2Py-02 – Functions & Recursions"
   ]
  },
  {
   "cell_type": "markdown",
   "metadata": {},
   "source": [
    "#### 1. Write a python script that asks the user for the values of x and y and uses these inputs to compute the numerical value of the expression"
   ]
  },
  {
   "cell_type": "code",
   "execution_count": 5,
   "metadata": {},
   "outputs": [
    {
     "data": {
      "text/plain": [
       "['__doc__',\n",
       " '__loader__',\n",
       " '__name__',\n",
       " '__package__',\n",
       " '__spec__',\n",
       " 'acos',\n",
       " 'acosh',\n",
       " 'asin',\n",
       " 'asinh',\n",
       " 'atan',\n",
       " 'atan2',\n",
       " 'atanh',\n",
       " 'ceil',\n",
       " 'comb',\n",
       " 'copysign',\n",
       " 'cos',\n",
       " 'cosh',\n",
       " 'degrees',\n",
       " 'dist',\n",
       " 'e',\n",
       " 'erf',\n",
       " 'erfc',\n",
       " 'exp',\n",
       " 'expm1',\n",
       " 'fabs',\n",
       " 'factorial',\n",
       " 'floor',\n",
       " 'fmod',\n",
       " 'frexp',\n",
       " 'fsum',\n",
       " 'gamma',\n",
       " 'gcd',\n",
       " 'hypot',\n",
       " 'inf',\n",
       " 'isclose',\n",
       " 'isfinite',\n",
       " 'isinf',\n",
       " 'isnan',\n",
       " 'isqrt',\n",
       " 'ldexp',\n",
       " 'lgamma',\n",
       " 'log',\n",
       " 'log10',\n",
       " 'log1p',\n",
       " 'log2',\n",
       " 'modf',\n",
       " 'nan',\n",
       " 'perm',\n",
       " 'pi',\n",
       " 'pow',\n",
       " 'prod',\n",
       " 'radians',\n",
       " 'remainder',\n",
       " 'sin',\n",
       " 'sinh',\n",
       " 'sqrt',\n",
       " 'tan',\n",
       " 'tanh',\n",
       " 'tau',\n",
       " 'trunc']"
      ]
     },
     "execution_count": 5,
     "metadata": {},
     "output_type": "execute_result"
    }
   ],
   "source": [
    "import math\n",
    "dir(math)"
   ]
  },
  {
   "cell_type": "code",
   "execution_count": 7,
   "metadata": {},
   "outputs": [
    {
     "name": "stdout",
     "output_type": "stream",
     "text": [
      "Entrer une valeur de x:2\n",
      "Entrer une valeur de x:3\n",
      "7.231609394713589\n"
     ]
    }
   ],
   "source": [
    "x = float(input(\"Entrer une valeur de x:\" ))\n",
    "y = float(input(\"Entrer une valeur de y:\" ))\n",
    "from math import*\n",
    "formule = math.sqrt(x**(2+y))/((1/x)+2*math.sin(y))\n",
    "print(formule)"
   ]
  },
  {
   "cell_type": "markdown",
   "metadata": {},
   "source": [
    "#### 2. Write a function that given two integers b ^ n (n is positive), calculates bnwithout using python’s power operator. Name this function ownpowerfn.py. PS: What if we do not specify that n has to be positive?"
   ]
  },
  {
   "cell_type": "code",
   "execution_count": 12,
   "metadata": {},
   "outputs": [
    {
     "name": "stdout",
     "output_type": "stream",
     "text": [
      "Entrer une valeur de b:2\n",
      "Entrer une valeur positive de n:2\n",
      "4.0\n"
     ]
    }
   ],
   "source": [
    "def ownpowerfn_py ():\n",
    "    b = float(input(\"Entrer une valeur de b:\" ))\n",
    "    n = int(input(\"Entrer une valeur positive de n:\" ))\n",
    "    power = b**n \n",
    "    print(power)\n",
    "# Exemple\n",
    "ownpowerfn_py()\n",
    "# if n not positive the "
   ]
  },
  {
   "cell_type": "markdown",
   "metadata": {},
   "source": [
    "#### 3. Write functions that do the following:"
   ]
  },
  {
   "cell_type": "markdown",
   "metadata": {},
   "source": [
    "a) Takes two arguments, and computes their arithmetic and geometric means. Name\n",
    "these functions arithmetic_mean and geometric_mean respectively"
   ]
  },
  {
   "cell_type": "code",
   "execution_count": 17,
   "metadata": {},
   "outputs": [
    {
     "name": "stdout",
     "output_type": "stream",
     "text": [
      "4.5\n",
      "2.0\n"
     ]
    }
   ],
   "source": [
    "def arithmetic_mean (a, b):\n",
    "    moyenne_arith = (a+b)/2\n",
    "    print(moyenne_arith)\n",
    "# Exemple\n",
    "arithmetic_mean(a= 3, b = 6)\n",
    "\n",
    "def geometric_mean (a, b):\n",
    "    moyenne_geo = math.sqrt(a*b)\n",
    "    print(moyenne_geo)\n",
    "geometric_mean(a = 2, b =2)"
   ]
  },
  {
   "cell_type": "markdown",
   "metadata": {},
   "source": [
    "b) Converts degree Celsius to Fahrenheit and vice versa. Name these two functions\n",
    "celcius_to_fahrenheit and fahrenheit_to_celcius respectively."
   ]
  },
  {
   "cell_type": "code",
   "execution_count": 20,
   "metadata": {},
   "outputs": [
    {
     "name": "stdout",
     "output_type": "stream",
     "text": [
      "Entrer la température en degrés celsius18\n"
     ]
    },
    {
     "data": {
      "text/plain": [
       "64.4"
      ]
     },
     "execution_count": 20,
     "metadata": {},
     "output_type": "execute_result"
    }
   ],
   "source": [
    "def celsius_to_fahrenheit():\n",
    "   temp_C =float(input(\"Entrer la température en degrés celsius\"))\n",
    "   return((temp_C*9/5)+32)\n",
    "# Exemple pour une temperature de 18\n",
    "celsius_to_fahrenheit()\n"
   ]
  },
  {
   "cell_type": "code",
   "execution_count": 21,
   "metadata": {},
   "outputs": [
    {
     "name": "stdout",
     "output_type": "stream",
     "text": [
      "Entrer la température en degrés fahrenheit64.4\n"
     ]
    },
    {
     "data": {
      "text/plain": [
       "18.000000000000004"
      ]
     },
     "execution_count": 21,
     "metadata": {},
     "output_type": "execute_result"
    }
   ],
   "source": [
    "def fahrenheit_to_celcius():\n",
    "   temp_F =float(input(\"Entrer la température en degrés fahrenheit\"))\n",
    "   return((temp_F-32)*5)/9\n",
    "fahrenheit_to_celcius()"
   ]
  },
  {
   "cell_type": "markdown",
   "metadata": {},
   "source": [
    "c) Converts angle in degrees to radians and vice versa. Name these two functions\n",
    "degrees_to_radians and radians_to_degrees respectively."
   ]
  },
  {
   "cell_type": "code",
   "execution_count": 25,
   "metadata": {},
   "outputs": [
    {
     "data": {
      "text/plain": [
       "0.314"
      ]
     },
     "execution_count": 25,
     "metadata": {},
     "output_type": "execute_result"
    }
   ],
   "source": [
    "pi = 3.14\n",
    "def degrees_to_radians (degres):\n",
    "    return(degres*pi/180)\n",
    "degrees_to_radians(degres = 18)"
   ]
  },
  {
   "cell_type": "code",
   "execution_count": 24,
   "metadata": {},
   "outputs": [
    {
     "data": {
      "text/plain": [
       "57.324840764331206"
      ]
     },
     "execution_count": 24,
     "metadata": {},
     "output_type": "execute_result"
    }
   ],
   "source": [
    "def radians_to_degrees  (radian):\n",
    "    return(radian*180/pi)\n",
    "radians_to_degrees (radian = 1)\n"
   ]
  },
  {
   "cell_type": "markdown",
   "metadata": {},
   "source": [
    "d) Computes the circumference and the area of a circle given the radius."
   ]
  },
  {
   "cell_type": "code",
   "execution_count": 27,
   "metadata": {},
   "outputs": [
    {
     "data": {
      "text/plain": [
       "18.84"
      ]
     },
     "execution_count": 27,
     "metadata": {},
     "output_type": "execute_result"
    }
   ],
   "source": [
    "pi = 3.14\n",
    "def circumference (rayon):\n",
    "    return(2*pi*rayon)\n",
    "circumference (rayon= 3)    "
   ]
  },
  {
   "cell_type": "code",
   "execution_count": 31,
   "metadata": {},
   "outputs": [
    {
     "data": {
      "text/plain": [
       "28.26"
      ]
     },
     "execution_count": 31,
     "metadata": {},
     "output_type": "execute_result"
    }
   ],
   "source": [
    "pi = 3.14\n",
    "def area (rayon):\n",
    "    return(pi*(rayon**2))         \n",
    "area (rayon=3)"
   ]
  },
  {
   "cell_type": "markdown",
   "metadata": {},
   "source": [
    "#### 4. Write functions that do the following:\n"
   ]
  },
  {
   "cell_type": "markdown",
   "metadata": {},
   "source": [
    "a) Given two numbers, compute their average and geometrical mean and prints them.\n",
    "Now write a program that performs this process 10 times, taking as input the means\n",
    "computed in the previous step. Name this function avggeom"
   ]
  },
  {
   "cell_type": "code",
   "execution_count": 54,
   "metadata": {},
   "outputs": [
    {
     "name": "stdout",
     "output_type": "stream",
     "text": [
      " Entrer le premier nombre: 2\n",
      " Entrer le deuxieme nombre: 3\n",
      "2.5\n",
      "2.449489742783178\n",
      "2.5 2.449489742783178\n",
      "2.5 2.449489742783178\n",
      "2.5 2.449489742783178\n",
      "2.5 2.449489742783178\n",
      "2.5 2.449489742783178\n",
      "2.5 2.449489742783178\n",
      "2.5 2.449489742783178\n",
      "2.5 2.449489742783178\n",
      "2.5 2.449489742783178\n",
      "2.5 2.449489742783178\n"
     ]
    }
   ],
   "source": [
    "number_1 = float(input(\" Entrer le premier nombre: \"))\n",
    "number_2 = float(input(\" Entrer le deuxieme nombre: \"))\n",
    "avg_mean = (number_1+number_2)/2\n",
    "geo_mean = math.sqrt(number_1*number_2)\n",
    "print(avg_mean)\n",
    "print(geo_mean)\n",
    "def avggeom (avg_mean, geo_mean):\n",
    "    i = 0 \n",
    "    while i <10 :\n",
    "        print (avg_mean, geo_mean)\n",
    "        i = i+1\n",
    "avggeom ( avg_mean, geo_mean)\n"
   ]
  },
  {
   "cell_type": "markdown",
   "metadata": {},
   "source": [
    "b) Write a function that computes the distance between two points in the plane. Use\n",
    "it in another program that computes the perimeter and the area of a triangle, given\n",
    "three points in the plane. Name this function distancefn.\n",
    "    "
   ]
  },
  {
   "cell_type": "code",
   "execution_count": 7,
   "metadata": {},
   "outputs": [],
   "source": [
    "def distance (x1,y1,x2,y2):\n",
    "     return math.sqrt(((x2-x1)**2)+((y2-y1)**2))\n",
    "distance(2,3,4,5)\n",
    "\n",
    "def distancefn (distance, perimetre):\n",
    "    perimetre = distance(x1, y1, x2, y2)+ distance(x1, y1, x3, y3)+ distance(x2, y2, x3, y3)\n",
    "    return perimetre"
   ]
  },
  {
   "cell_type": "markdown",
   "metadata": {},
   "source": [
    "#### 5. Write a program that offers three options to the user:\n",
    "1. Evaluation of actorial\n",
    "2. Evaluation of a second degree equation\n",
    "3. Exit\n",
    "The user selects one of the options and then the program requests the data needed and\n",
    "calls the corresponding function to produce a result. The program then repeats the process\n",
    "until the user says he wants to exit. Name this function fact2nddeg."
   ]
  },
  {
   "cell_type": "code",
   "execution_count": null,
   "metadata": {},
   "outputs": [],
   "source": []
  },
  {
   "cell_type": "markdown",
   "metadata": {},
   "source": [
    "#### 6. For a fixed real number x and a natural number n, we can define recursively $x^n$ using the relations: $ x^0 = 1 and x^n+1 = x.x^n.$ Write a function power(x,n) that implements the above recursion"
   ]
  },
  {
   "cell_type": "code",
   "execution_count": 8,
   "metadata": {},
   "outputs": [
    {
     "name": "stdout",
     "output_type": "stream",
     "text": [
      " Etrer un nombre reel: 2\n",
      " Entrer un entier n : 2\n"
     ]
    },
    {
     "data": {
      "text/plain": [
       "8"
      ]
     },
     "execution_count": 8,
     "metadata": {},
     "output_type": "execute_result"
    }
   ],
   "source": [
    "x = float(input(\" Etrer un nombre reel: \"))\n",
    "n = int(input(\" Entrer un entier n : \"))\n",
    "def power (x, n):\n",
    "    i = 0\n",
    "    if n <=1: return n\n",
    "    else : return  x*pow(x,n) \n",
    "power(2,2)\n",
    "    "
   ]
  },
  {
   "cell_type": "markdown",
   "metadata": {},
   "source": [
    "#### 7. Write code that implements the Fibonacci sequence. Test your program at 100"
   ]
  },
  {
   "cell_type": "code",
   "execution_count": 1,
   "metadata": {},
   "outputs": [
    {
     "data": {
      "text/plain": [
       "1"
      ]
     },
     "execution_count": 1,
     "metadata": {},
     "output_type": "execute_result"
    }
   ],
   "source": [
    "def fib(n):\n",
    "    if n<=1: return n\n",
    "    else: return fib(n-1)+fib(n-2)\n",
    "fib(2)"
   ]
  },
  {
   "cell_type": "code",
   "execution_count": null,
   "metadata": {},
   "outputs": [],
   "source": []
  }
 ],
 "metadata": {
  "kernelspec": {
   "display_name": "Python 3",
   "language": "python",
   "name": "python3"
  },
  "language_info": {
   "codemirror_mode": {
    "name": "ipython",
    "version": 3
   },
   "file_extension": ".py",
   "mimetype": "text/x-python",
   "name": "python",
   "nbconvert_exporter": "python",
   "pygments_lexer": "ipython3",
   "version": "3.8.10"
  }
 },
 "nbformat": 4,
 "nbformat_minor": 4
}
